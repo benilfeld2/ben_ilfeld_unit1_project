{
 "cells": [
  {
   "cell_type": "markdown",
   "metadata": {},
   "source": [
    "<img src=\"http://imgur.com/1ZcRyrc.png\" style=\"float: left; margin: 20px; height: 55px\">\n",
    "\n",
    "# Project 1: Python Coding Exercises\n",
    "\n",
    "_Authors: Joseph Nelson (DC) _\n",
    "\n",
    "---"
   ]
  },
  {
   "cell_type": "markdown",
   "metadata": {},
   "source": [
    "The following code challenges are drawn from common exercises used in technical interviews.\n",
    "\n",
    "Please note that there may be several ways to approach each challenge. If you get stuck, try mapping out your approach in pseudocode first. Finally, while solutions to problems like these may be found online, remember that if you copy/paste code that you can't explain, you'll be missing out on the point of the project. The only way to truly learn a new skill is through practice, trial, and error - we can only help you improve by understanding where you are having trouble."
   ]
  },
  {
   "cell_type": "markdown",
   "metadata": {},
   "source": [
    "### Challenge 1: Largest Palindrome\n",
    "A palindromic number reads the same both ways. For example, 1234321 is a palindrome. The largest palindrome made from the product of two two-digit numbers is 9009 = 91 × 99. Find the largest palindrome made from the product of two three-digit numbers. Afterward, write a brief explanation walking through your code's logic in markdown."
   ]
  },
  {
   "cell_type": "code",
   "execution_count": 14,
   "metadata": {
    "collapsed": true
   },
   "outputs": [
    {
     "data": {
      "text/plain": [
       "'not a pallindrome'"
      ]
     },
     "execution_count": 14,
     "metadata": {},
     "output_type": "execute_result"
    }
   ],
   "source": [
    "# Function to check if a number is a pallindrome.\n",
    "\n",
    "def pallindrome (product):\n",
    "    product_index = len(product) - 1\n",
    "    px = 0\n",
    "    if len(product) % 2 == 0:\n",
    "        while (product_index + 1) > (px * 2):\n",
    "            if product[px] != product[product_index - px]:\n",
    "                return('not a pallindrome')\n",
    "            else:\n",
    "                px = px + 1\n",
    "                if (product_index + 1) == (px * 2):\n",
    "                    return('is a pallindrome')\n",
    "    else:\n",
    "        while (product_index // 2) > px:\n",
    "            if product[px] != product[product_index - px]:\n",
    "                return('not a pallindrome')\n",
    "            else:\n",
    "                px = px + 1\n",
    "                if (product_index // 2) == px:\n",
    "                    return('is a pallindrome')\n",
    "\n",
    "pallindrome('995006')"
   ]
  },
  {
   "cell_type": "code",
   "execution_count": 15,
   "metadata": {},
   "outputs": [
    {
     "name": "stdout",
     "output_type": "stream",
     "text": [
      "906609 is the largest pallindrome in the list!\n"
     ]
    }
   ],
   "source": [
    "#Loop to evaluate numbers using the pallindrome function\n",
    "\n",
    "product3 = []\n",
    "for x in range(100, 1000):\n",
    "    for y in range(100, 1000):\n",
    "        product3.append(x * y)\n",
    "product3.sort(reverse = True)\n",
    "dx = 0\n",
    "yes_pal = False\n",
    "while yes_pal == False:\n",
    "    if pallindrome(str(product3[0 + dx])) == 'not a pallindrome':\n",
    "        dx = dx + 1\n",
    "    else:\n",
    "        yes_pal = True\n",
    "        print(str(product3[0 + dx]) + ' is the largest pallindrome in the list!')"
   ]
  },
  {
   "cell_type": "markdown",
   "metadata": {},
   "source": [
    "In pallindrome function, I'm looking for matching characters in a string. I'm looping until we either find it is not a pallindrome, or we have evaluated at least every pair of digits in the string. There are probably more compact ways of doing things, but in our coursework I had examples of evaluating characters in strings, so that's where my mind went.\n",
    "\n",
    "The for loop first creates a list of the products of two numbers within a range. This starts with two ranges, creating two variables, multiplying each pair and then appending the result into a previously emtpy list. Then reverse sort this list so index position 0 is the largest number. The variable dx is an integer for incrementing on the loop and moving the evauluation to ever smaller numbers in the list. The variable yes_pal is a boolean to capture when we found the highest pallindrome and stop the loop. Finally, we check each of the numbers in the list with our pallindrome funtion."
   ]
  },
  {
   "cell_type": "code",
   "execution_count": null,
   "metadata": {},
   "outputs": [],
   "source": []
  },
  {
   "cell_type": "markdown",
   "metadata": {},
   "source": []
  },
  {
   "cell_type": "markdown",
   "metadata": {},
   "source": [
    "\n",
    "### Challenge 2: Summation of Primes\n",
    "The sum of the primes below 10 is 2 + 3 + 5 + 7 = 17. Find the sum of all the primes below 2,000. Afterward, write a brief explanation walking through your code's logic in markdown."
   ]
  },
  {
   "cell_type": "code",
   "execution_count": 18,
   "metadata": {
    "collapsed": true
   },
   "outputs": [],
   "source": [
    "# Function to determine if a number is prime\n",
    "\n",
    "def is_prime (num_2000):\n",
    "    incr = 1\n",
    "    while num_2000 > incr:\n",
    "        if num_2000 - incr == 1:\n",
    "            return('prime')\n",
    "        elif num_2000 % (num_2000 - incr) == 0:\n",
    "            incr = incr + 1\n",
    "            return('not prime')\n",
    "        else:\n",
    "            incr = incr + 1\n",
    "\n",
    "# is_prime(3)"
   ]
  },
  {
   "cell_type": "code",
   "execution_count": 19,
   "metadata": {},
   "outputs": [
    {
     "name": "stdout",
     "output_type": "stream",
     "text": [
      "277050\n"
     ]
    }
   ],
   "source": [
    "# Loop to evaluate a range of numbers for primes and print the sum of those numbers\n",
    "\n",
    "prime_list = []\n",
    "for num_eval in range(1, 2001):\n",
    "    if is_prime(num_eval) == 'prime':\n",
    "        prime_list.append(num_eval)\n",
    "print(sum(prime_list))"
   ]
  },
  {
   "cell_type": "markdown",
   "metadata": {},
   "source": [
    "The is_prime function will only loop so long as the increment, incr, is less than the input variable. Here it must start at 1 because all integers are divisible by themselves. We first check if the input - increment is equal to 1. This would mean that the function has incremented all the way up through all smaller numbers and not found that the number is 'not a prime'--therefore it is a prime!\n",
    "\n",
    "If that fails--as it often will--we check to see if the number has a remainder when divided by ever smaller numbers. If that fails we then would increment and loop back to evaluate again.\n",
    "\n",
    "The for loop cell first creates an empty list for prime numbers to be dropped into as we find them. The we create a for loop to find prime numbers in a range between 1 and 2000 and use the function above to check if the number is prime. If so, append that number to the prime list, then print the sum of the prime list. Noting that the bound for the higher index of the range is 2001 to be inclusive of the number 2000. Though 2000 is not prime, so the output is not affected."
   ]
  },
  {
   "cell_type": "markdown",
   "metadata": {},
   "source": []
  },
  {
   "cell_type": "markdown",
   "metadata": {},
   "source": [
    "### Challenge 3: Multiples of 3 and 5\n",
    "If we list all of the natural numbers below 10 that are multiples of 3 or 5, we get 3, 5, 6, and 9. The sum of these multiples is 23. Find the sum of all the multiples of 3 or 5 below 1,000. Afterward, write a brief explanation walking through your code's logic in markdown."
   ]
  },
  {
   "cell_type": "code",
   "execution_count": 7,
   "metadata": {
    "collapsed": true
   },
   "outputs": [
    {
     "data": {
      "text/plain": [
       "'nay'"
      ]
     },
     "execution_count": 7,
     "metadata": {},
     "output_type": "execute_result"
    }
   ],
   "source": [
    "# Function to evaluate if a number is divisible by 3 or 5\n",
    "\n",
    "def three_five (num_check):\n",
    "    if (num_check % 3 == 0) or (num_check % 5 == 0):\n",
    "        return('yay')\n",
    "    else:\n",
    "        return('nay')\n",
    "        \n",
    "# three_five(8)"
   ]
  },
  {
   "cell_type": "code",
   "execution_count": 8,
   "metadata": {},
   "outputs": [
    {
     "name": "stdout",
     "output_type": "stream",
     "text": [
      "233168\n"
     ]
    }
   ],
   "source": [
    "#Loop to evaluate range of numbers for divisibility of 3 or 5 and sum\n",
    "\n",
    "three_five_list = []\n",
    "for num_eval2 in range(1, 1000):\n",
    "    if three_five(num_eval2) == 'yay':\n",
    "        three_five_list.append(num_eval2)\n",
    "print(sum(three_five_list))"
   ]
  },
  {
   "cell_type": "markdown",
   "metadata": {},
   "source": [
    "The function takes an input and evaluates it by checking the modus to find if the remainder when divided by 3 or 5 is 0. If so, then it returns 'yay' which can be checked by code or function. I added a 'nay' option for else which was useful when testing.\n",
    "\n",
    "In the for loop cell first we create an empty list for numbers divisible by 3 or 5 to be dropped into as we find them. Then, we create a for loop to find divisible by 3 or 5 in a range between 1 and 999--below 1000 and use the function above to check if the number is divisible by 3 or 5. If so, append that number to the list, then print the sum of the list."
   ]
  },
  {
   "cell_type": "markdown",
   "metadata": {},
   "source": []
  },
  {
   "cell_type": "markdown",
   "metadata": {},
   "source": [
    "### Challenge 4: String Compressor\n",
    "Implement a method to perform basic string compression using the counts of repeated characters. (This is called run-length encoding.) For example, the string \"aabcccccaaa\" would become a2b1c5a3. If the “compressed” string would not become smaller than the original string, your method should return the original string. You can assume the string has only uppercase and lowercase letters (a–z). Specify whether your solution is case sensitive or case insensitive and what you would need to change to make it the other. Afterward, write a brief explanation walking through your code's logic in markdown."
   ]
  },
  {
   "cell_type": "code",
   "execution_count": 4,
   "metadata": {
    "collapsed": true
   },
   "outputs": [
    {
     "name": "stdout",
     "output_type": "stream",
     "text": [
      "['a5', 'b1']\n"
     ]
    }
   ],
   "source": [
    "# Function to evaluate same characters in a row--case sensitive. enter the orginial string\n",
    "\n",
    "org_string = 'aaaaab'\n",
    "char_list = []\n",
    "en_string = ''\n",
    "def char_en (pre_encode):\n",
    "    e = 1\n",
    "    pre_encode = pre_encode + '9'\n",
    "    try:\n",
    "        for a_char in pre_encode:\n",
    "            if (a_char != pre_encode[e]):\n",
    "                char_list.append(pre_encode[0] + str(e))\n",
    "                pre_encode = pre_encode[e:]\n",
    "                e = 1\n",
    "            else:\n",
    "                e = e + 1\n",
    "    except IndexError:\n",
    "        pass\n",
    "char_en(org_string)\n",
    "print(char_list)"
   ]
  },
  {
   "cell_type": "code",
   "execution_count": 5,
   "metadata": {},
   "outputs": [
    {
     "name": "stdout",
     "output_type": "stream",
     "text": [
      "a5b1\n",
      "aaaaab\n"
     ]
    }
   ],
   "source": [
    "# Convert list to string\n",
    "\n",
    "for en_pair in char_list:\n",
    "    en_string += str(en_pair)\n",
    "char_list = char_list[:-1]\n",
    "print(en_string)\n",
    "print(org_string)"
   ]
  },
  {
   "cell_type": "code",
   "execution_count": 6,
   "metadata": {},
   "outputs": [
    {
     "data": {
      "text/plain": [
       "'a5b1'"
      ]
     },
     "execution_count": 6,
     "metadata": {},
     "output_type": "execute_result"
    }
   ],
   "source": [
    "# Function to evaluate if new string length is greater than old string length and sets the final string output to the shorter\n",
    "\n",
    "def longer(org_str, com_str):\n",
    "    if len(org_str) <= len(com_str):\n",
    "        final_str = org_str\n",
    "    else:\n",
    "        final_str = com_str\n",
    "    return final_str\n",
    "    \n",
    "longer(org_string, en_string)"
   ]
  },
  {
   "cell_type": "markdown",
   "metadata": {},
   "source": [
    "Using the org_string variable to input the string to be evaluated. Create an empty list for the output of the expression of each group of same letters in a row. Create an empty string for when we convert the list into a string. The code I created then defines an increment variable, e, and appends an extra non-alphabetical digit on the end of the original string, 9. Then we evaluate if each character matches the next in the index list, incrementing up from 1 for each same character that is found.\n",
    "\n",
    "Then when the next letter does not match, we append the character and number of same characters as a string in the list. Then we remove those characters from the original string, reset the increment back to 1 and loop. At the end, we get an index error as code tries to evalue the last digit, 9, against the next index position, which does not exisit. So I wrapped this in a try, except as we don't need to evaluate 9, having added it only to allow us to evalue the digit before. I realize there is likely a better way to do this, but it allowed me to play with the \"try / except\" bit.\n",
    "\n",
    "Then there is a cell which takes the list output of the above function and converts it to a string by adding each value into the empty string and then removing the value from the list.\n",
    "\n",
    "Finally there is an if / else function to evaluate which of the two strings is longer."
   ]
  },
  {
   "cell_type": "markdown",
   "metadata": {},
   "source": []
  },
  {
   "cell_type": "markdown",
   "metadata": {},
   "source": [
    "### Challenge 5: FizzBuzz\n",
    "\n",
    "Write a program that prints all of the numbers from 1 to 100. For multiples of 3, instead of the number, print \"Fizz;\" for multiples of 5, print \"Buzz.\" For numbers that are multiples of both 3 and 5, print \"FizzBuzz.\" Afterward, write a brief explanation walking through your code's logic in markdown."
   ]
  },
  {
   "cell_type": "code",
   "execution_count": 20,
   "metadata": {
    "collapsed": true
   },
   "outputs": [
    {
     "name": "stdout",
     "output_type": "stream",
     "text": [
      "[1, 2, 'Fizz', 4, 'Buzz', 'Fizz', 7, 8, 'Fizz', 'Buzz', 11, 'Fizz', 13, 14, 'FizzBuzz', 16, 17, 'Fizz', 19, 'Buzz', 'Fizz', 22, 23, 'Fizz', 'Buzz', 26, 'Fizz', 28, 29, 'FizzBuzz', 31, 32, 'Fizz', 34, 'Buzz', 'Fizz', 37, 38, 'Fizz', 'Buzz', 41, 'Fizz', 43, 44, 'FizzBuzz', 46, 47, 'Fizz', 49, 'Buzz', 'Fizz', 52, 53, 'Fizz', 'Buzz', 56, 'Fizz', 58, 59, 'FizzBuzz', 61, 62, 'Fizz', 64, 'Buzz', 'Fizz', 67, 68, 'Fizz', 'Buzz', 71, 'Fizz', 73, 74, 'FizzBuzz', 76, 77, 'Fizz', 79, 'Buzz', 'Fizz', 82, 83, 'Fizz', 'Buzz', 86, 'Fizz', 88, 89, 'FizzBuzz', 91, 92, 'Fizz', 94, 'Buzz', 'Fizz', 97, 98, 'Fizz', 'Buzz']\n"
     ]
    }
   ],
   "source": [
    "# FizzBuzz loop\n",
    "\n",
    "fizz_buzz = []\n",
    "\n",
    "for i in range(1, 101):\n",
    "    if i % (3 * 5) == 0:\n",
    "        fizz_buzz.append('FizzBuzz')\n",
    "    elif i % 3 == 0:\n",
    "        fizz_buzz.append('Fizz')\n",
    "    elif i % 5 == 0:\n",
    "        fizz_buzz.append('Buzz')\n",
    "    else:\n",
    "        fizz_buzz.append(i)\n",
    "\n",
    "print(fizz_buzz)"
   ]
  },
  {
   "cell_type": "markdown",
   "metadata": {},
   "source": [
    "Create an empty list to print at the end. Looking to evaluate a range from 1 to 100 inclusive--so range ends at 101. First if statement is to check for FizzBuzz condition, multiples of 3 and 5--15. If not FizzBuzz, next check for Fizz and then Buzz. Since FizzBuzz takes all the multiples of both, then all other numbers will be mutually exclusive either Fizz, Buzz or the number and append to the list. Finally print the list."
   ]
  },
  {
   "cell_type": "markdown",
   "metadata": {},
   "source": []
  }
 ],
 "metadata": {
  "anaconda-cloud": {},
  "kernelspec": {
   "display_name": "Python 3",
   "language": "python",
   "name": "python3"
  },
  "language_info": {
   "codemirror_mode": {
    "name": "ipython",
    "version": 3
   },
   "file_extension": ".py",
   "mimetype": "text/x-python",
   "name": "python",
   "nbconvert_exporter": "python",
   "pygments_lexer": "ipython3",
   "version": "3.7.1"
  }
 },
 "nbformat": 4,
 "nbformat_minor": 2
}
